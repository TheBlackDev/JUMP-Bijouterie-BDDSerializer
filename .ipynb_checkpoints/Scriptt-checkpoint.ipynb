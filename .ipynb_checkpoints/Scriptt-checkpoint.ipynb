{
 "cells": [
  {
   "cell_type": "code",
   "execution_count": 1,
   "id": "71f01e90",
   "metadata": {},
   "outputs": [],
   "source": [
    "import numpy as np\n",
    "import matplotlib.pyplot as plt\n",
    "import pandas as pd\n",
    "import matplotlib.image as imgg"
   ]
  },
  {
   "cell_type": "code",
   "execution_count": 2,
   "id": "84b4ecf1",
   "metadata": {},
   "outputs": [],
   "source": [
    "file_path = \"C:/Repositories/JUMP-Bijouterie-BDDSerializer/extrait.xslx\"\n",
    "\n",
    "import os\n",
    "\n",
    "cwd = os.getcwd()  # Get the current working directory (cwd)\n",
    "files = os.listdir(cwd)  # Get all the files in that directory\n",
    "#print(\"Files in %r: %s\" % (cwd, files))"
   ]
  },
  {
   "cell_type": "code",
   "execution_count": 3,
   "id": "f848377b",
   "metadata": {},
   "outputs": [
    {
     "data": {
      "text/plain": [
       "Index(['Date', 'Vendeur', 'Description', 'Achat', 'Vendu', 'Lieu',\n",
       "       'Prix confié', 'Date Confié', 'Ebay Etsy Sonia', 'Prix Ebay Etsy',\n",
       "       'Date Ebay Etsy', 'Oh My Brooch !', 'Facture', 'TYPE', 'Type2',\n",
       "       'Période', 'OR \\nSP', 'OR \\nGRIS', 'OR JAUNE2', 'OR \\nROSE',\n",
       "       'OR \\n14 K', 'PLATINE', 'ARGENT', 'ACIER', 'MARQUE', 'DIAMANT',\n",
       "       'EME-RAUDE', 'SAPHIR', 'RUBIS', 'AIGUE-MARINE', 'PERLE',\n",
       "       'AUTRE PIERRE'],\n",
       "      dtype='object')"
      ]
     },
     "execution_count": 3,
     "metadata": {},
     "output_type": "execute_result"
    }
   ],
   "source": [
    "df = pd.ExcelFile('BDDwoimage.xlsx').parse('f1', index_col=\"Lot\");\n",
    "a = df.head()\n",
    "lot = df.index.to_numpy()\n",
    "df.columns"
   ]
  },
  {
   "cell_type": "code",
   "execution_count": 4,
   "id": "695c9796",
   "metadata": {
    "scrolled": true
   },
   "outputs": [
    {
     "data": {
      "text/plain": [
       "718"
      ]
     },
     "execution_count": 4,
     "metadata": {},
     "output_type": "execute_result"
    }
   ],
   "source": [
    "vd_array = df.Vendeur.to_numpy()\n",
    "len_array = []\n",
    "errs = []\n",
    "for i in range(len(vd_array)):\n",
    "    try:\n",
    "        len_array.append(len(vd_array[i]))\n",
    "    except Exception:\n",
    "        errs.append(i)\n",
    "len_array = np.array(len_array)\n",
    "np.argmax(len_array)"
   ]
  },
  {
   "cell_type": "code",
   "execution_count": 5,
   "id": "e1534ba2",
   "metadata": {},
   "outputs": [
    {
     "data": {
      "text/plain": [
       "1574"
      ]
     },
     "execution_count": 5,
     "metadata": {},
     "output_type": "execute_result"
    }
   ],
   "source": [
    "vd_array = df.Description.to_numpy()\n",
    "len_array = []\n",
    "errs = []\n",
    "for i in range(len(vd_array)):\n",
    "    try:\n",
    "        len_array.append(len(vd_array[i]))\n",
    "    except Exception:\n",
    "        errs.append(i)\n",
    "len_array = np.array(len_array)\n",
    "np.argmax(len_array)"
   ]
  },
  {
   "cell_type": "code",
   "execution_count": 6,
   "id": "f4512b16",
   "metadata": {},
   "outputs": [
    {
     "name": "stdout",
     "output_type": "stream",
     "text": [
      "[34698.  2478. 16740. ...  4250.  1674.  3220.]\n",
      "0\n"
     ]
    }
   ],
   "source": [
    "vd_array = df.Achat.to_numpy()\n",
    "currency = []\n",
    "rejet = []\n",
    "print(vd_array)\n",
    "for i in range(len(vd_array)):\n",
    "    if(isinstance(vd_array[i], np.float64) or type(elt) == int or type(elt) == float):\n",
    "        continue\n",
    "    rejet.append(i)\n",
    "print(len(rejet))"
   ]
  },
  {
   "cell_type": "code",
   "execution_count": 12,
   "id": "0d808044",
   "metadata": {},
   "outputs": [
    {
     "name": "stdout",
     "output_type": "stream",
     "text": [
      "[nan nan nan ... nan nan nan]\n",
      "['2344A']\n"
     ]
    }
   ],
   "source": [
    "vd_array = df[\"Prix Ebay Etsy\"].to_numpy()\n",
    "currency = []\n",
    "rejet = []\n",
    "count = []\n",
    "reste = []\n",
    "print(vd_array)\n",
    "for i in range(len(vd_array)):\n",
    "    \n",
    "    if(vd_array[i] == \"nan\" or type(vd_array[i]) == int or type(vd_array[i]) == float):\n",
    "        continue\n",
    "    if(\"GBP\" in vd_array[i]):\n",
    "        count.append(i)\n",
    "    else:\n",
    "        reste.append(i)\n",
    "    rejet.append(i)\n",
    "\n",
    "lotGBP = []\n",
    "for indice in count:\n",
    "    lotGBP.append(lot[indice])\n",
    "reste = [lot[r] for r in reste]\n",
    "print(reste)\n"
   ]
  },
  {
   "cell_type": "code",
   "execution_count": 8,
   "id": "0ce3217b",
   "metadata": {},
   "outputs": [
    {
     "data": {
      "text/plain": [
       "34"
      ]
     },
     "execution_count": 8,
     "metadata": {},
     "output_type": "execute_result"
    }
   ],
   "source": [
    "vd_array = df.Lieu.to_numpy()\n",
    "len_array = []\n",
    "errs = []\n",
    "for i in range(len(vd_array)):\n",
    "    try:\n",
    "        len_array.append(len(vd_array[i]))\n",
    "    except Exception:\n",
    "        errs.append(i)\n",
    "len_array = np.array(len_array)\n",
    "np.max(len_array)"
   ]
  },
  {
   "cell_type": "code",
   "execution_count": 9,
   "id": "65d1f771",
   "metadata": {},
   "outputs": [
    {
     "data": {
      "text/plain": [
       "15"
      ]
     },
     "execution_count": 9,
     "metadata": {},
     "output_type": "execute_result"
    }
   ],
   "source": [
    "vd_array = df[\"Ebay Etsy Sonia\"].to_numpy()\n",
    "len_array = []\n",
    "errs = []\n",
    "for i in range(len(vd_array)):\n",
    "    try:\n",
    "        len_array.append(len(vd_array[i]))\n",
    "    except Exception:\n",
    "        errs.append(i)\n",
    "len_array = np.array(len_array)\n",
    "np.max(len_array)"
   ]
  },
  {
   "cell_type": "code",
   "execution_count": 10,
   "id": "5eea0029",
   "metadata": {},
   "outputs": [
    {
     "data": {
      "text/plain": [
       "16"
      ]
     },
     "execution_count": 10,
     "metadata": {},
     "output_type": "execute_result"
    }
   ],
   "source": [
    "vd_array = df[\"MARQUE\"].to_numpy()\n",
    "len_array = []\n",
    "errs = []\n",
    "for i in range(len(vd_array)):\n",
    "    try:\n",
    "        len_array.append(len(vd_array[i]))\n",
    "    except Exception:\n",
    "        errs.append(i)\n",
    "len_array = np.array(len_array)\n",
    "np.max(len_array)"
   ]
  },
  {
   "cell_type": "code",
   "execution_count": null,
   "id": "e226f7d2",
   "metadata": {},
   "outputs": [],
   "source": []
  }
 ],
 "metadata": {
  "kernelspec": {
   "display_name": "Python 3 (ipykernel)",
   "language": "python",
   "name": "python3"
  },
  "language_info": {
   "codemirror_mode": {
    "name": "ipython",
    "version": 3
   },
   "file_extension": ".py",
   "mimetype": "text/x-python",
   "name": "python",
   "nbconvert_exporter": "python",
   "pygments_lexer": "ipython3",
   "version": "3.9.6"
  }
 },
 "nbformat": 4,
 "nbformat_minor": 5
}
